{
 "cells": [
  {
   "cell_type": "markdown",
   "metadata": {},
   "source": [
    "<h1 style='color:Red' align=\"center\">Language Detection System </h1>"
   ]
  },
  {
   "cell_type": "code",
   "execution_count": 47,
   "metadata": {},
   "outputs": [],
   "source": [
    "import pandas as pd\n",
    "import numpy as np\n",
    "import re\n",
    "import seaborn as sns\n",
    "import matplotlib.pyplot as plt\n",
    "import warnings\n",
    "import pickle\n",
    "warnings.simplefilter(\"ignore\")"
   ]
  },
  {
   "cell_type": "code",
   "execution_count": 2,
   "metadata": {},
   "outputs": [
    {
     "data": {
      "text/html": [
       "<div>\n",
       "<style scoped>\n",
       "    .dataframe tbody tr th:only-of-type {\n",
       "        vertical-align: middle;\n",
       "    }\n",
       "\n",
       "    .dataframe tbody tr th {\n",
       "        vertical-align: top;\n",
       "    }\n",
       "\n",
       "    .dataframe thead th {\n",
       "        text-align: right;\n",
       "    }\n",
       "</style>\n",
       "<table border=\"1\" class=\"dataframe\">\n",
       "  <thead>\n",
       "    <tr style=\"text-align: right;\">\n",
       "      <th></th>\n",
       "      <th>Text</th>\n",
       "      <th>Language</th>\n",
       "    </tr>\n",
       "  </thead>\n",
       "  <tbody>\n",
       "    <tr>\n",
       "      <th>0</th>\n",
       "      <td>نيتشر (بالإنجليزية: Nature)‏ قد تعني:    تعديل...</td>\n",
       "      <td>Arabic</td>\n",
       "    </tr>\n",
       "    <tr>\n",
       "      <th>1</th>\n",
       "      <td>ويكيبيديا هي موسوعة يمكن لأي مستخدم تعديل وتحر...</td>\n",
       "      <td>Arabic</td>\n",
       "    </tr>\n",
       "    <tr>\n",
       "      <th>2</th>\n",
       "      <td>في مارس 2009 كان في ويكيبيديا 15 مليون مقالة ت...</td>\n",
       "      <td>Arabic</td>\n",
       "    </tr>\n",
       "    <tr>\n",
       "      <th>3</th>\n",
       "      <td>في يوم 17 أغسطس، 2009: وصلت ويكيبيديا الإنجليز...</td>\n",
       "      <td>Arabic</td>\n",
       "    </tr>\n",
       "    <tr>\n",
       "      <th>4</th>\n",
       "      <td>[8] تكتب المقالات تعاونيًا بواسطة متطوعين من ح...</td>\n",
       "      <td>Arabic</td>\n",
       "    </tr>\n",
       "    <tr>\n",
       "      <th>5</th>\n",
       "      <td>شهرة ويكيبيديا تنمو بثبات منذ بداية عملها.</td>\n",
       "      <td>Arabic</td>\n",
       "    </tr>\n",
       "    <tr>\n",
       "      <th>6</th>\n",
       "      <td>ويكيبيديا من الإنجليزية ويكيبيديا هي اختصار لك...</td>\n",
       "      <td>Arabic</td>\n",
       "    </tr>\n",
       "    <tr>\n",
       "      <th>7</th>\n",
       "      <td>تنتشر خوادم ويكيبيديا الرئيسية في تامبا، فلوري...</td>\n",
       "      <td>Arabic</td>\n",
       "    </tr>\n",
       "    <tr>\n",
       "      <th>8</th>\n",
       "      <td>يعد ويكيبيديا من أشهر عشرة مواقع على الإنترنت ...</td>\n",
       "      <td>Arabic</td>\n",
       "    </tr>\n",
       "    <tr>\n",
       "      <th>9</th>\n",
       "      <td>[9] نتيجة لطبيعة ويكيبيديا التي تسمح لأي مستخد...</td>\n",
       "      <td>Arabic</td>\n",
       "    </tr>\n",
       "    <tr>\n",
       "      <th>10</th>\n",
       "      <td>[10][11] إذ أن بإمكان أي مستخدم أن يجري تعديلا...</td>\n",
       "      <td>Arabic</td>\n",
       "    </tr>\n",
       "    <tr>\n",
       "      <th>11</th>\n",
       "      <td>أيضا تثار الشكوك حول حيادية المقالات في ويكيبي...</td>\n",
       "      <td>Arabic</td>\n",
       "    </tr>\n",
       "    <tr>\n",
       "      <th>12</th>\n",
       "      <td>حدد القائمون على موسوعة ويكيبيديا مجموعة من ال...</td>\n",
       "      <td>Arabic</td>\n",
       "    </tr>\n",
       "    <tr>\n",
       "      <th>13</th>\n",
       "      <td>بدأ مشروع ويكيبيديا في 15 يناير 2001 كمتمم لمش...</td>\n",
       "      <td>Arabic</td>\n",
       "    </tr>\n",
       "    <tr>\n",
       "      <th>14</th>\n",
       "      <td>وبسبب بطء تطوّر نيوبيديا فقد قرّر جيمي ويلز ول...</td>\n",
       "      <td>Arabic</td>\n",
       "    </tr>\n",
       "    <tr>\n",
       "      <th>15</th>\n",
       "      <td>وأصبحت تحتوي على 600 ألف مقالة بالإنجليزية و2 ...</td>\n",
       "      <td>Arabic</td>\n",
       "    </tr>\n",
       "    <tr>\n",
       "      <th>16</th>\n",
       "      <td>تمت محاولة إنشاء موسوعات تعاونية أخرى عبر الإن...</td>\n",
       "      <td>Arabic</td>\n",
       "    </tr>\n",
       "    <tr>\n",
       "      <th>17</th>\n",
       "      <td>[12] بدأت ويكيبيديا كمشروع تكميلي لـ نيوبيديا،...</td>\n",
       "      <td>Arabic</td>\n",
       "    </tr>\n",
       "    <tr>\n",
       "      <th>18</th>\n",
       "      <td>[13] تم تأسيسها في 9 مارس 2000، بملكية بوميس، ...</td>\n",
       "      <td>Arabic</td>\n",
       "    </tr>\n",
       "    <tr>\n",
       "      <th>19</th>\n",
       "      <td>شخصياتها الرئيسية كانت الرئيس التنفيذي لشركة ب...</td>\n",
       "      <td>Arabic</td>\n",
       "    </tr>\n",
       "    <tr>\n",
       "      <th>20</th>\n",
       "      <td>تم ترخيص نيوبيديا في البداية بموجب ترخيص نيوبي...</td>\n",
       "      <td>Arabic</td>\n",
       "    </tr>\n",
       "    <tr>\n",
       "      <th>21</th>\n",
       "      <td>يرجع الفضل إلى ويلز في تحديد الهدف المتمثل في ...</td>\n",
       "      <td>Arabic</td>\n",
       "    </tr>\n",
       "    <tr>\n",
       "      <th>22</th>\n",
       "      <td>[14] في 10 يناير 2001، اقترح سانجر على القائمة...</td>\n",
       "      <td>Arabic</td>\n",
       "    </tr>\n",
       "    <tr>\n",
       "      <th>23</th>\n",
       "      <td>[15] تم تسجيل النطاقات Wikipedia.com وWikipedi...</td>\n",
       "      <td>Arabic</td>\n",
       "    </tr>\n",
       "    <tr>\n",
       "      <th>24</th>\n",
       "      <td>تم تدوين سياسة ويكيبيديا الخاصة بـ \"وجهة نظر م...</td>\n",
       "      <td>Arabic</td>\n",
       "    </tr>\n",
       "    <tr>\n",
       "      <th>25</th>\n",
       "      <td>بخلاف ذلك، كانت هناك قواعد قليلة نسبيًا في الب...</td>\n",
       "      <td>Arabic</td>\n",
       "    </tr>\n",
       "    <tr>\n",
       "      <th>26</th>\n",
       "      <td>في الأصل، كان بوميس ينوي جعل ويكيبيديا شركة من...</td>\n",
       "      <td>Arabic</td>\n",
       "    </tr>\n",
       "    <tr>\n",
       "      <th>27</th>\n",
       "      <td>[18] اكتسبت ويكيبيديا مساهمين مبكرين من نيوبيد...</td>\n",
       "      <td>Arabic</td>\n",
       "    </tr>\n",
       "    <tr>\n",
       "      <th>28</th>\n",
       "      <td>كما تم إنشاء إصدارات اللغة، بإجمالي 161 طبعة ب...</td>\n",
       "      <td>Arabic</td>\n",
       "    </tr>\n",
       "    <tr>\n",
       "      <th>29</th>\n",
       "      <td>[19] تعايش نيوبيديا و ويكيبيديا حتى تم إزالة خ...</td>\n",
       "      <td>Arabic</td>\n",
       "    </tr>\n",
       "    <tr>\n",
       "      <th>30</th>\n",
       "      <td>تجاوزت ويكيبيديا الإنجليزية علامة مليوني مقال ...</td>\n",
       "      <td>Arabic</td>\n",
       "    </tr>\n",
       "    <tr>\n",
       "      <th>31</th>\n",
       "      <td>نقلاً عن مخاوف من الإعلانات التجارية وعدم وجود...</td>\n",
       "      <td>Arabic</td>\n",
       "    </tr>\n",
       "    <tr>\n",
       "      <th>32</th>\n",
       "      <td>[20] أعلن ويلز بعد ذلك أن ويكيبيديا لن تعرض إع...</td>\n",
       "      <td>Arabic</td>\n",
       "    </tr>\n",
       "    <tr>\n",
       "      <th>33</th>\n",
       "      <td>[21] على الرغم من أن ويكيبيديا الإنجليزية وصلت...</td>\n",
       "      <td>Arabic</td>\n",
       "    </tr>\n",
       "    <tr>\n",
       "      <th>34</th>\n",
       "      <td>[22] تمت إضافة حوالي 1800 مقال يوميًا إلى المو...</td>\n",
       "      <td>Arabic</td>\n",
       "    </tr>\n",
       "    <tr>\n",
       "      <th>35</th>\n",
       "      <td>[23] عزا فريق في مركز بالو ألتو للأبحاث هذا ال...</td>\n",
       "      <td>Arabic</td>\n",
       "    </tr>\n",
       "    <tr>\n",
       "      <th>36</th>\n",
       "      <td>[24] يقترح البعض الآخر أن النمو يتم تسويته بشك...</td>\n",
       "      <td>Arabic</td>\n",
       "    </tr>\n",
       "    <tr>\n",
       "      <th>37</th>\n",
       "      <td>[25][26][27] في نوفمبر 2009، وجد باحث في جامعة...</td>\n",
       "      <td>Arabic</td>\n",
       "    </tr>\n",
       "    <tr>\n",
       "      <th>38</th>\n",
       "      <td>[28][29] استشهدت صحيفة وول ستريت جورنال بمجموع...</td>\n",
       "      <td>Arabic</td>\n",
       "    </tr>\n",
       "    <tr>\n",
       "      <th>39</th>\n",
       "      <td>[30] عارض ويلز هذه الادعاءات في عام 2009، نافي...</td>\n",
       "      <td>Arabic</td>\n",
       "    </tr>\n",
       "    <tr>\n",
       "      <th>40</th>\n",
       "      <td>[31] بعد ذلك بعامين، في عام 2011، أقرت ويلز بو...</td>\n",
       "      <td>Arabic</td>\n",
       "    </tr>\n",
       "    <tr>\n",
       "      <th>41</th>\n",
       "      <td>في المقابلة نفسها، زعم ويلز أيضًا أن عدد المحر...</td>\n",
       "      <td>Arabic</td>\n",
       "    </tr>\n",
       "    <tr>\n",
       "      <th>42</th>\n",
       "      <td>[32] شكك مقال عام 2013 بعنوان \"The Decline of ...</td>\n",
       "      <td>Arabic</td>\n",
       "    </tr>\n",
       "    <tr>\n",
       "      <th>43</th>\n",
       "      <td>كشف المقال أنه منذ عام 2007، فقدت ويكيبيديا ثل...</td>\n",
       "      <td>Arabic</td>\n",
       "    </tr>\n",
       "    <tr>\n",
       "      <th>44</th>\n",
       "      <td>[33] في يوليو 2012، أفادت ذا أتلانتيك أن عدد ا...</td>\n",
       "      <td>Arabic</td>\n",
       "    </tr>\n",
       "    <tr>\n",
       "      <th>45</th>\n",
       "      <td>[34] في عدد 25 نوفمبر 2013 من مجلة نيويورك، صر...</td>\n",
       "      <td>Arabic</td>\n",
       "    </tr>\n",
       "    <tr>\n",
       "      <th>46</th>\n",
       "      <td>[35] في كانون الثاني (يناير) 2007، دخلت ويكيبي...</td>\n",
       "      <td>Arabic</td>\n",
       "    </tr>\n",
       "    <tr>\n",
       "      <th>47</th>\n",
       "      <td>مع 42.9 مليون زائر، احتلت ويكيبيديا المرتبة 9،...</td>\n",
       "      <td>Arabic</td>\n",
       "    </tr>\n",
       "    <tr>\n",
       "      <th>48</th>\n",
       "      <td>يمثل هذا زيادة كبيرة عن يناير 2006، عندما كانت...</td>\n",
       "      <td>Arabic</td>\n",
       "    </tr>\n",
       "    <tr>\n",
       "      <th>49</th>\n",
       "      <td>[36] اعتبارا من مارس 2020[تحديث]، ويكيبيديا تح...</td>\n",
       "      <td>Arabic</td>\n",
       "    </tr>\n",
       "  </tbody>\n",
       "</table>\n",
       "</div>"
      ],
      "text/plain": [
       "                                                 Text Language\n",
       "0   نيتشر (بالإنجليزية: Nature)‏ قد تعني:    تعديل...   Arabic\n",
       "1   ويكيبيديا هي موسوعة يمكن لأي مستخدم تعديل وتحر...   Arabic\n",
       "2   في مارس 2009 كان في ويكيبيديا 15 مليون مقالة ت...   Arabic\n",
       "3   في يوم 17 أغسطس، 2009: وصلت ويكيبيديا الإنجليز...   Arabic\n",
       "4   [8] تكتب المقالات تعاونيًا بواسطة متطوعين من ح...   Arabic\n",
       "5          شهرة ويكيبيديا تنمو بثبات منذ بداية عملها.   Arabic\n",
       "6   ويكيبيديا من الإنجليزية ويكيبيديا هي اختصار لك...   Arabic\n",
       "7   تنتشر خوادم ويكيبيديا الرئيسية في تامبا، فلوري...   Arabic\n",
       "8   يعد ويكيبيديا من أشهر عشرة مواقع على الإنترنت ...   Arabic\n",
       "9   [9] نتيجة لطبيعة ويكيبيديا التي تسمح لأي مستخد...   Arabic\n",
       "10  [10][11] إذ أن بإمكان أي مستخدم أن يجري تعديلا...   Arabic\n",
       "11  أيضا تثار الشكوك حول حيادية المقالات في ويكيبي...   Arabic\n",
       "12  حدد القائمون على موسوعة ويكيبيديا مجموعة من ال...   Arabic\n",
       "13  بدأ مشروع ويكيبيديا في 15 يناير 2001 كمتمم لمش...   Arabic\n",
       "14  وبسبب بطء تطوّر نيوبيديا فقد قرّر جيمي ويلز ول...   Arabic\n",
       "15  وأصبحت تحتوي على 600 ألف مقالة بالإنجليزية و2 ...   Arabic\n",
       "16  تمت محاولة إنشاء موسوعات تعاونية أخرى عبر الإن...   Arabic\n",
       "17  [12] بدأت ويكيبيديا كمشروع تكميلي لـ نيوبيديا،...   Arabic\n",
       "18  [13] تم تأسيسها في 9 مارس 2000، بملكية بوميس، ...   Arabic\n",
       "19  شخصياتها الرئيسية كانت الرئيس التنفيذي لشركة ب...   Arabic\n",
       "20  تم ترخيص نيوبيديا في البداية بموجب ترخيص نيوبي...   Arabic\n",
       "21  يرجع الفضل إلى ويلز في تحديد الهدف المتمثل في ...   Arabic\n",
       "22  [14] في 10 يناير 2001، اقترح سانجر على القائمة...   Arabic\n",
       "23  [15] تم تسجيل النطاقات Wikipedia.com وWikipedi...   Arabic\n",
       "24  تم تدوين سياسة ويكيبيديا الخاصة بـ \"وجهة نظر م...   Arabic\n",
       "25  بخلاف ذلك، كانت هناك قواعد قليلة نسبيًا في الب...   Arabic\n",
       "26  في الأصل، كان بوميس ينوي جعل ويكيبيديا شركة من...   Arabic\n",
       "27  [18] اكتسبت ويكيبيديا مساهمين مبكرين من نيوبيد...   Arabic\n",
       "28  كما تم إنشاء إصدارات اللغة، بإجمالي 161 طبعة ب...   Arabic\n",
       "29  [19] تعايش نيوبيديا و ويكيبيديا حتى تم إزالة خ...   Arabic\n",
       "30  تجاوزت ويكيبيديا الإنجليزية علامة مليوني مقال ...   Arabic\n",
       "31  نقلاً عن مخاوف من الإعلانات التجارية وعدم وجود...   Arabic\n",
       "32  [20] أعلن ويلز بعد ذلك أن ويكيبيديا لن تعرض إع...   Arabic\n",
       "33  [21] على الرغم من أن ويكيبيديا الإنجليزية وصلت...   Arabic\n",
       "34  [22] تمت إضافة حوالي 1800 مقال يوميًا إلى المو...   Arabic\n",
       "35  [23] عزا فريق في مركز بالو ألتو للأبحاث هذا ال...   Arabic\n",
       "36  [24] يقترح البعض الآخر أن النمو يتم تسويته بشك...   Arabic\n",
       "37  [25][26][27] في نوفمبر 2009، وجد باحث في جامعة...   Arabic\n",
       "38  [28][29] استشهدت صحيفة وول ستريت جورنال بمجموع...   Arabic\n",
       "39  [30] عارض ويلز هذه الادعاءات في عام 2009، نافي...   Arabic\n",
       "40  [31] بعد ذلك بعامين، في عام 2011، أقرت ويلز بو...   Arabic\n",
       "41  في المقابلة نفسها، زعم ويلز أيضًا أن عدد المحر...   Arabic\n",
       "42  [32] شكك مقال عام 2013 بعنوان \"The Decline of ...   Arabic\n",
       "43  كشف المقال أنه منذ عام 2007، فقدت ويكيبيديا ثل...   Arabic\n",
       "44  [33] في يوليو 2012، أفادت ذا أتلانتيك أن عدد ا...   Arabic\n",
       "45  [34] في عدد 25 نوفمبر 2013 من مجلة نيويورك، صر...   Arabic\n",
       "46  [35] في كانون الثاني (يناير) 2007، دخلت ويكيبي...   Arabic\n",
       "47  مع 42.9 مليون زائر، احتلت ويكيبيديا المرتبة 9،...   Arabic\n",
       "48  يمثل هذا زيادة كبيرة عن يناير 2006، عندما كانت...   Arabic\n",
       "49  [36] اعتبارا من مارس 2020[تحديث]، ويكيبيديا تح...   Arabic"
      ]
     },
     "execution_count": 2,
     "metadata": {},
     "output_type": "execute_result"
    }
   ],
   "source": [
    "data = pd.read_csv(\"fd.csv\")\n",
    "data.head(50)"
   ]
  },
  {
   "cell_type": "code",
   "execution_count": 48,
   "metadata": {},
   "outputs": [],
   "source": [
    "##  <span style='color:Purple'> Now Let's take some insites about data </span>"
   ]
  },
  {
   "cell_type": "code",
   "execution_count": 3,
   "metadata": {},
   "outputs": [
    {
     "data": {
      "text/plain": [
       "Malayalam     594\n",
       "Russian       581\n",
       "English       570\n",
       "Italian       555\n",
       "Portugeese    552\n",
       "Dutch         546\n",
       "Chinese       535\n",
       "Arabic        534\n",
       "Sweedish      517\n",
       "Estonian      505\n",
       "Persian       480\n",
       "Turkish       474\n",
       "German        470\n",
       "Tamil         469\n",
       "Korean        455\n",
       "Japanese      446\n",
       "Pushto        441\n",
       "Indonesian    434\n",
       "Danish        428\n",
       "Urdu          413\n",
       "French        406\n",
       "Spanish       404\n",
       "Kannada       369\n",
       "Greek         365\n",
       "Thai          359\n",
       "Latin         352\n",
       "Romanian      332\n",
       "Hindi          62\n",
       "Name: Language, dtype: int64"
      ]
     },
     "execution_count": 3,
     "metadata": {},
     "output_type": "execute_result"
    }
   ],
   "source": [
    "data[\"Language\"].value_counts()"
   ]
  },
  {
   "cell_type": "code",
   "execution_count": 4,
   "metadata": {},
   "outputs": [],
   "source": [
    "X = data[\"Text\"]\n",
    "y = data[\"Language\"]"
   ]
  },
  {
   "cell_type": "code",
   "execution_count": 5,
   "metadata": {},
   "outputs": [
    {
     "data": {
      "text/plain": [
       "(12648,)"
      ]
     },
     "execution_count": 5,
     "metadata": {},
     "output_type": "execute_result"
    }
   ],
   "source": [
    "X.shape"
   ]
  },
  {
   "cell_type": "code",
   "execution_count": 6,
   "metadata": {},
   "outputs": [
    {
     "data": {
      "text/plain": [
       "(12648,)"
      ]
     },
     "execution_count": 6,
     "metadata": {},
     "output_type": "execute_result"
    }
   ],
   "source": [
    "y.shape"
   ]
  },
  {
   "cell_type": "code",
   "execution_count": 7,
   "metadata": {},
   "outputs": [],
   "source": [
    "from sklearn.preprocessing import LabelEncoder\n",
    "le = LabelEncoder()\n",
    "y = le.fit_transform(y)"
   ]
  },
  {
   "cell_type": "code",
   "execution_count": 8,
   "metadata": {},
   "outputs": [],
   "source": [
    "# creating a list for appending the preprocessed text\n",
    "data_list = []\n",
    "# iterating through all the text\n",
    "for text in X:\n",
    "       # removing the symbols and numbers\n",
    "        text = re.sub(r'[!@#$(),n\"%^*?:;~`0-9]', ' ', text)\n",
    "        text = re.sub(r'[[]]', ' ', text)\n",
    "        # converting the text to lower case\n",
    "        text = text.lower()\n",
    "        # appending to data_list\n",
    "        data_list.append(text)"
   ]
  },
  {
   "cell_type": "code",
   "execution_count": 9,
   "metadata": {},
   "outputs": [
    {
     "data": {
      "text/plain": [
       "(12648, 110736)"
      ]
     },
     "execution_count": 9,
     "metadata": {},
     "output_type": "execute_result"
    }
   ],
   "source": [
    "from sklearn.feature_extraction.text import CountVectorizer\n",
    "cv = CountVectorizer()\n",
    "X = cv.fit_transform(data_list).toarray()\n",
    "X.shape # (10337, 39419)"
   ]
  },
  {
   "cell_type": "markdown",
   "metadata": {},
   "source": [
    "## <span style='color:Purple'> Splitting the data set into train and test </span>"
   ]
  },
  {
   "cell_type": "code",
   "execution_count": 10,
   "metadata": {},
   "outputs": [],
   "source": [
    "from sklearn.model_selection import train_test_split\n",
    "x_train, x_test, y_train, y_test = train_test_split(X, y, test_size = 0.21)"
   ]
  },
  {
   "cell_type": "code",
   "execution_count": 11,
   "metadata": {},
   "outputs": [
    {
     "data": {
      "text/plain": [
       "MultinomialNB()"
      ]
     },
     "execution_count": 11,
     "metadata": {},
     "output_type": "execute_result"
    }
   ],
   "source": [
    "from sklearn.naive_bayes import MultinomialNB\n",
    "model = MultinomialNB()\n",
    "model.fit(x_train, y_train)\n"
   ]
  },
  {
   "cell_type": "code",
   "execution_count": 12,
   "metadata": {},
   "outputs": [],
   "source": [
    "y_pred = model.predict(x_test)"
   ]
  },
  {
   "cell_type": "code",
   "execution_count": 13,
   "metadata": {},
   "outputs": [],
   "source": [
    "from sklearn.metrics import accuracy_score, confusion_matrix, classification_report\n",
    "ac = accuracy_score(y_test, y_pred)\n",
    "cm = confusion_matrix(y_test, y_pred)\n",
    "cr = classification_report(y_test, y_pred)"
   ]
  },
  {
   "cell_type": "code",
   "execution_count": 14,
   "metadata": {},
   "outputs": [
    {
     "name": "stdout",
     "output_type": "stream",
     "text": [
      "Accuracy is : 0.9273616861121565\n"
     ]
    }
   ],
   "source": [
    "print(\"Accuracy is :\",ac)"
   ]
  },
  {
   "cell_type": "markdown",
   "metadata": {},
   "source": [
    "## <span style='color:Purple'> Generating the Classification Report </span>"
   ]
  },
  {
   "cell_type": "code",
   "execution_count": 15,
   "metadata": {},
   "outputs": [
    {
     "name": "stdout",
     "output_type": "stream",
     "text": [
      "              precision    recall  f1-score   support\n",
      "\n",
      "           0       1.00      0.94      0.97       103\n",
      "           1       0.89      0.46      0.61       102\n",
      "           2       0.97      0.94      0.95        95\n",
      "           3       0.98      0.95      0.97       128\n",
      "           4       0.83      0.97      0.90       124\n",
      "           5       0.94      0.98      0.96       112\n",
      "           6       0.97      0.97      0.97        99\n",
      "           7       0.95      0.98      0.96        93\n",
      "           8       1.00      0.97      0.99        76\n",
      "           9       1.00      1.00      1.00        10\n",
      "          10       0.90      0.98      0.94       101\n",
      "          11       0.93      0.99      0.96       125\n",
      "          12       0.97      0.41      0.57        96\n",
      "          13       0.86      1.00      0.92        77\n",
      "          14       1.00      0.95      0.98        87\n",
      "          15       0.93      0.93      0.93        75\n",
      "          16       0.57      1.00      0.73       115\n",
      "          17       1.00      1.00      1.00        98\n",
      "          18       0.93      0.98      0.96       121\n",
      "          19       1.00      0.97      0.98        99\n",
      "          20       0.96      1.00      0.98        73\n",
      "          21       0.99      1.00      1.00       124\n",
      "          22       0.99      0.82      0.90        90\n",
      "          23       0.97      0.93      0.95       103\n",
      "          24       1.00      0.98      0.99       102\n",
      "          25       1.00      0.98      0.99        66\n",
      "          26       1.00      0.94      0.97        89\n",
      "          27       1.00      0.97      0.99        74\n",
      "\n",
      "    accuracy                           0.93      2657\n",
      "   macro avg       0.95      0.93      0.93      2657\n",
      "weighted avg       0.94      0.93      0.92      2657\n",
      "\n"
     ]
    }
   ],
   "source": [
    "print(cr)"
   ]
  },
  {
   "cell_type": "code",
   "execution_count": 24,
   "metadata": {},
   "outputs": [
    {
     "data": {
      "image/png": "[encoded data removed]",
      "text/plain": [
       "<Figure size 1080x1080 with 2 Axes>"
      ]
     },
     "metadata": {
      "needs_background": "light"
     },
     "output_type": "display_data"
    }
   ],
   "source": [
    "plt.figure(figsize=(15,15))\n",
    "sns.heatmap(cm, annot = True)\n",
    "plt.show()"
   ]
  },
  {
   "cell_type": "markdown",
   "metadata": {},
   "source": [
    "##  <span style='color:Purple'> Making predictions </span>"
   ]
  },
  {
   "cell_type": "code",
   "execution_count": 19,
   "metadata": {},
   "outputs": [],
   "source": [
    "def predict(text):\n",
    "     x = cv.transform([text]).toarray() # converting text to bag of words model (Vector)\n",
    "     lang = model.predict(x) # predicting the language\n",
    "     lang = le.inverse_transform(lang) # finding the language corresponding the the predicted value\n",
    "     print(\"The langauge is in\",lang[0]) # printing the language"
   ]
  },
  {
   "cell_type": "code",
   "execution_count": 22,
   "metadata": {},
   "outputs": [
    {
     "name": "stdout",
     "output_type": "stream",
     "text": [
      "The langauge is in English\n"
     ]
    }
   ],
   "source": [
    "# English\n",
    "predict(\"India is my country\")"
   ]
  },
  {
   "cell_type": "code",
   "execution_count": 25,
   "metadata": {},
   "outputs": [
    {
     "name": "stdout",
     "output_type": "stream",
     "text": [
      "The langauge is in Hindi\n"
     ]
    }
   ],
   "source": [
    "# India\n",
    "predict(\"भारत मेरा देश है\")"
   ]
  },
  {
   "cell_type": "code",
   "execution_count": 26,
   "metadata": {},
   "outputs": [
    {
     "name": "stdout",
     "output_type": "stream",
     "text": [
      "The langauge is in Russian\n"
     ]
    }
   ],
   "source": [
    "# Russian\n",
    "predict(\"Индия - моя страна\")"
   ]
  },
  {
   "cell_type": "code",
   "execution_count": 28,
   "metadata": {},
   "outputs": [
    {
     "name": "stdout",
     "output_type": "stream",
     "text": [
      "The langauge is in Italian\n"
     ]
    }
   ],
   "source": [
    "# Italin\n",
    "predict(\"India è il mio paese\")"
   ]
  },
  {
   "cell_type": "code",
   "execution_count": 29,
   "metadata": {},
   "outputs": [
    {
     "name": "stdout",
     "output_type": "stream",
     "text": [
      "The langauge is in Sweedish\n"
     ]
    }
   ],
   "source": [
    "# Sweedish\n",
    "predict(\"Indien är mitt land\")"
   ]
  },
  {
   "cell_type": "code",
   "execution_count": 34,
   "metadata": {},
   "outputs": [
    {
     "name": "stdout",
     "output_type": "stream",
     "text": [
      "The langauge is in English\n"
     ]
    }
   ],
   "source": [
    "# Dutch\n",
    "predict(\"India is mijn land\")"
   ]
  },
  {
   "cell_type": "code",
   "execution_count": 50,
   "metadata": {},
   "outputs": [
    {
     "name": "stdout",
     "output_type": "stream",
     "text": [
      "The langauge is in Latin\n"
     ]
    }
   ],
   "source": [
    "# Latin\n",
    "predict(\"India patria mea est\")"
   ]
  },
  {
   "cell_type": "code",
   "execution_count": 51,
   "metadata": {},
   "outputs": [
    {
     "name": "stdout",
     "output_type": "stream",
     "text": [
      "The langauge is in German\n"
     ]
    }
   ],
   "source": [
    "# German\n",
    "predict(\"Indien ist mein Land\")"
   ]
  }
 ],
 "metadata": {
  "kernelspec": {
   "display_name": "Python 3",
   "language": "python",
   "name": "python3"
  },
  "language_info": {
   "codemirror_mode": {
    "name": "ipython",
    "version": 3
   },
   "file_extension": ".py",
   "mimetype": "text/x-python",
   "name": "python",
   "nbconvert_exporter": "python",
   "pygments_lexer": "ipython3",
   "version": "3.9.2"
  }
 },
 "nbformat": 4,
 "nbformat_minor": 4
}
